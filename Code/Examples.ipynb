{
 "cells": [
  {
   "cell_type": "markdown",
   "metadata": {},
   "source": [
    "# Example Test Analysis\n",
    "In this notebook, we feed well-known enzyme-substrate pairs from industrial applications to see if our model predicts them to be active"
   ]
  },
  {
   "cell_type": "markdown",
   "metadata": {},
   "source": [
    "### Import packages"
   ]
  },
  {
   "cell_type": "code",
   "execution_count": 85,
   "metadata": {},
   "outputs": [],
   "source": [
    "# General\n",
    "import os\n",
    "from os.path import join\n",
    "CURRENT_DIR = os.getcwd()\n",
    "import pickle\n",
    "\n",
    "# Wrangling\n",
    "import pandas as pd\n",
    "import numpy as np\n",
    "\n",
    "# Featurisation\n",
    "import torch\n",
    "from rdkit.Chem import MolFromSmiles, rdFingerprintGenerator"
   ]
  },
  {
   "cell_type": "code",
   "execution_count": 86,
   "metadata": {},
   "outputs": [],
   "source": [
    "enzymes = {\n",
    "    'enzyme' : ['laccase', 'cytochrome', 'lipase'],\n",
    "    'sequence' : ['MFPGARILATLTLALHLLHGAHAAIGPAGNMYIVNEDVSPDGFARSAVVARSVPATDPTPATASIPGVLVQGNKGDNFQLNVVNQLSDTTMLKTTSIHWHGFFQAGSSWADGPAFVTQCPVASGDSFLYNFNVPDQAGTFWYHSHLSTQYCDGLRGPFVVYDPSDPHLSLYDIDNADTVITLEDWYHIVAPQNAAIPTPDSTLINGKGRYAGGPTSPLAIINVESNKRYRFRLVSMSCDPNFTFSIDGHSLLVIEADAVNIVPITVDSIQIFAGQRYSFVLTANQAVDNYWIRANPNLGSTGFVGGINSAILRYAGATEDDPTTTSSTSTPLLETNLVPLENPGAPGPPVPGGADININLAMAFDFTTFELTINGVPFLPPTAPVLLQILSGASTAASLLPSGSIYELEANKVVEISMPALAVGGPHPFHLHGHTFDVIRSAGSTTYNFDTPARRDVVNTGTGANDNVTIRFVTDNPGPWFLHCHIDWHLEIGLAVVFAEDVTSISAPPAAWDDLCPIYNALSDNDKGGIVPS',\n",
    "                  'MALIPDLAMETWLLLAVSLVLLYLYGTHSHGLFKKLGIPGPTPLPFLGNILSYHKGFCMFDMECHKKYGKVWGFYDGQQPVLAITDPDMIKTVLVKECYSVFTNRRPFGPVGFMKSAISIAEDEEWKRLRSLLSPTFTSGKLKEMVPIIAQYGDVLVRNLRREAETGKPVTLKDVFGAYSMDVITSTSFGVNIDSLNNPQDPFVENTKKLLRFDFLDPFFLSITVFPFLIPILEVLNICVFPREVTNFLRKSVKRMKESRLEDTQKHRVDFLQLMIDSQNSKETESHKALSDLELVAQSIIFIFAGYETTSSVLSFIMYELATHPDVQQKLQEEIDAVLPNKAPPTYDTVLQMEYLDMVVNETLRLFPIAMRLERVCKKDVEINGMFIPKGVVVMIPSYALHRDPKYWTEPEKFLPERFSKKNKDNIDPYIYTPFGSGPRNCIGMRFALMNMKLALIRVLQNFSFKPCKETQIPLKLSLGGLLQPEKPVVLKVESRDGTVSGA',\n",
    "                  'MKLLSLTGVAGVLATCVAATPLVKRLPSGSDPAFSQPKSVLDAGLTCQGASPSSVSKPILLVPGTGTTGPQSFDSNWIPLSTQLGYTPCWISPPPFMLNDTQVNTEYMVNAITALYAGSGNNKLPVLTWSQGGLVAQWGLTFFPSIRSKVDRLMAFAPDYKGTVLAGPLDALAVSAPSVWQQTTGSALTTALRNAGGLTQIVPTTNLYSATDEIVQPQVSNSPLDSSYLFNGKNVQAQAVCGPLFVIDHAGSLTSQFSYVVGRSALRSTTGQARSADYGITDCNPLPANDLTPEQKVAAAALLAPAAAAIVAGPKQNCEPDLMPYARPFAVGKRTCSGIVTP']\n",
    "}      "
   ]
  },
  {
   "cell_type": "code",
   "execution_count": 87,
   "metadata": {},
   "outputs": [],
   "source": [
    "substrates = {\n",
    "    'substrate' : ['lignin', 'midazolam', 'trygliceride'],\n",
    "    'smile' : ['CC(=O)NC1=C2C(=C(C=C1)S(=O)(=O)[O-])C=C(C(=C2O)N=NC3=CC=CC=C3)S(=O)(=O)[O-].[Na+].[Na+]',\n",
    "                'CC1=NC=C2N1C3=C(C=C(C=C3)Cl)C(=NC2)C4=CC=CC=C4F',\n",
    "                'C(C(COC=O)OC=O)OC=O']\n",
    "}"
   ]
  },
  {
   "cell_type": "code",
   "execution_count": 88,
   "metadata": {},
   "outputs": [],
   "source": [
    "enzyme_df = pd.DataFrame(enzymes)\n",
    "substrate_df = pd.DataFrame(substrates)"
   ]
  },
  {
   "cell_type": "code",
   "execution_count": 89,
   "metadata": {},
   "outputs": [
    {
     "name": "stdout",
     "output_type": "stream",
     "text": [
      "FASTA file created at /Users/pablocanocarciofa/Library/Mobile Documents/com~apple~CloudDocs/Masters/Project/Github/Enzyme-Specificity/Code/../data/enzyme_data/example_sequences.fasta\n"
     ]
    }
   ],
   "source": [
    "# This code is inspired by: https://github.com/AlexanderKroll/ESP\n",
    "\n",
    "# Set output path for fasta file of enzyme sequences\n",
    "output_file_path = join(CURRENT_DIR, '..' ,'data', 'enzyme_data', 'example_sequences.fasta')\n",
    "\n",
    "# Open the fasta file so we can write sequences to it\n",
    "with open(join(CURRENT_DIR, '..' ,'Data', 'example_sequences.fasta'), 'w') as ofile:\n",
    "    # Iterate over each row in the dataframe, taking sequences of each enzyme\n",
    "    for index, row in enzyme_df.iterrows():\n",
    "        seq = row['sequence']\n",
    "        if not pd.isnull(seq):\n",
    "            # Write the sequence in fasta format to the fasta file which includes the index of the given\n",
    "            # enzyme in the enzyme_df dataframe, followed by its amino acid sequence\n",
    "            ofile.write('>' + str(index) + '\\n' + seq[:1018]  + '\\n')\n",
    "\n",
    "print(f'FASTA file created at {output_file_path}')"
   ]
  },
  {
   "cell_type": "markdown",
   "metadata": {},
   "source": [
    "##### Command Line Code\n",
    "python Code/extract.py esm1b_t33_650M_UR50S \"/Users/pablocanocarciofa/Library/Mobile Documents/com~apple~CloudDocs/Masters/Project/Github/Enzyme-Specificity/Data/example_sequences.fasta\" \"/Users/pablocanocarciofa/Library/Mobile Documents/com~apple~CloudDocs/Masters/Project/Github/Enzyme-Specificity/Data/ESM_1b_examples\" --repr_layers 33 --include mean"
   ]
  },
  {
   "cell_type": "code",
   "execution_count": 90,
   "metadata": {},
   "outputs": [
    {
     "name": "stdout",
     "output_type": "stream",
     "text": [
      "We have 3 enzymes with an ESM1b representation, out of 3 enzymes with a sequence\n"
     ]
    }
   ],
   "source": [
    "def load_embedding(index, model):\n",
    "    \"\"\"\n",
    "    Load the embeddings created by an ESM model, in .pt files back into python\n",
    "\n",
    "    Parameters:\n",
    "    (1) index: the index in the enzyme_df dataframe, of the enzyme we want to retrieve (integer)\n",
    "    (2) model: the ESM model we want to run - ESM-1b or ESM-2 (string)\n",
    "\n",
    "    Returns:\n",
    "    (1) embedding: vector representation of the given enzyme (list length 1280)\n",
    "    \"\"\"\n",
    "    # Try to avoid throwing errors\n",
    "    try:\n",
    "        # Go to .pt file which is named after the index it takes in enzyme_df\n",
    "        embedding_path = join(CURRENT_DIR, '..', 'Data', model, f'{index}.pt')\n",
    "        # Load the file with torch\n",
    "        embedding = torch.load(embedding_path)\n",
    "        # Go into the file and grab the representation at the 33rd layer in the network\n",
    "        # Convert to a numpy array then a list\n",
    "        embedding = embedding['mean_representations'][33].numpy().tolist()\n",
    "        return embedding\n",
    "    # Don't throw error if file not found\n",
    "    except FileNotFoundError:\n",
    "        pass\n",
    "\n",
    "# Create pandas series of embeddings, indexed by enzyme_df index\n",
    "esm1b_series = pd.Series([load_embedding(int(idx), 'ESM-1b_examples') for idx in enzyme_df.index], index=enzyme_df.index)\n",
    "\n",
    "# Assign the Series to a new column ESM1b in the DataFrame\n",
    "enzyme_df['ESM1b'] = esm1b_series\n",
    "print('We have', enzyme_df['ESM1b'].notna().sum(), 'enzymes with an ESM1b representation, out of', enzyme_df['sequence'].notna().sum(), 'enzymes with a sequence')"
   ]
  },
  {
   "cell_type": "code",
   "execution_count": 92,
   "metadata": {},
   "outputs": [],
   "source": [
    "mfpgen = rdFingerprintGenerator.GetMorganGenerator(radius=3, fpSize=2048)\n",
    "\n",
    "def string_to_float(list):\n",
    "    \"\"\"\n",
    "    Convert all elements in a list to floats\n",
    "\n",
    "    Parameters:\n",
    "    (1) list: list for which we will convert all elements to a float (list)\n",
    "\n",
    "    Returns:\n",
    "    (1) floated_list: list where all elements have been converted to float (list)\n",
    "    \"\"\"\n",
    "    floated_list = [float(element) for element in list]\n",
    "    return floated_list\n",
    "\n",
    "# Function to convert a SMILES string to a Morgan fingerprint bit string\n",
    "def smiles_to_fingerprint(smiles):\n",
    "    \"\"\"\n",
    "    Convert a SMILES string to an Extended Connectivity Fingerprint (ECFP)\n",
    "\n",
    "    Parameters:\n",
    "    (1) smiles: string SMILES representation of substrate (string)\n",
    "\n",
    "    Returns:\n",
    "    (1) ecfp: vector representation of input substrate SMILES representation (list length 2048)\n",
    "    \"\"\"\n",
    "    if smiles:\n",
    "        # Create Mol object from SMILES string\n",
    "        mol = MolFromSmiles(smiles)\n",
    "        if mol:\n",
    "            # Get ECFP representation by calling GetFingerprint and convert this to a string, we then\n",
    "            # convert this to a string and then to a list, then we convert all of the elements to floats\n",
    "            # since each element will be a string at first\n",
    "            ecfp = string_to_float(list(mfpgen.GetFingerprint(mol).ToBitString()))\n",
    "            return ecfp\n",
    "    return None\n",
    "\n",
    "# Create ECFP representations for every SMILES representation of the substrates in our dataset\n",
    "substrate_df['ECFP'] = substrate_df['SMILES'].apply(smiles_to_fingerprint)"
   ]
  },
  {
   "cell_type": "code",
   "execution_count": 93,
   "metadata": {},
   "outputs": [],
   "source": [
    "# Concatenate enzyme and substrate features\n",
    "examples_df = pd.concat([enzyme_df, substrate_df], axis = 1)"
   ]
  },
  {
   "cell_type": "code",
   "execution_count": 94,
   "metadata": {},
   "outputs": [],
   "source": [
    "def combine_vectors(row, col1, col2):\n",
    "        \"\"\"\n",
    "        Concatenates 2 vectors in 2 columns to one larger vector in one column in a dataframe\n",
    "\n",
    "        (1) row - row of dataframe\n",
    "        (2) col1 - column of dataframe containing first vector to be unpacked\n",
    "        (3) col2 - column fo dataframe containing second vector to be unpacked\n",
    "        \"\"\"\n",
    "        return np.concatenate([row[col1], row[col2]])"
   ]
  },
  {
   "cell_type": "code",
   "execution_count": 95,
   "metadata": {},
   "outputs": [],
   "source": [
    "def featurise_train(df, col1, col2):\n",
    "        \"\"\"\n",
    "        Creates a numpy array of 2 concatenated vectors from a dataframe where each value represents\n",
    "        a row in the dataframe\n",
    "\n",
    "        (1) row - row of dataframe\n",
    "        (2) col1 - column of dataframe containing first vector to be unpacked\n",
    "        (3) col2 - column fo dataframe containing second vector to be unpacked\n",
    "        \"\"\"\n",
    "        df.loc[:, (col1 + '_' + col2 + '_Combined')] = df.apply(combine_vectors, args = (col1, col2), axis=1)\n",
    "        featurised = np.stack(df[col1 + '_' + col2 + '_Combined'].values)\n",
    "        return featurised"
   ]
  },
  {
   "cell_type": "code",
   "execution_count": 96,
   "metadata": {},
   "outputs": [],
   "source": [
    "# Featurise enzyme-substrate pairs\n",
    "X_examples = featurise_train(examples_df, 'ESM1b', 'ECFP')"
   ]
  },
  {
   "cell_type": "code",
   "execution_count": 97,
   "metadata": {},
   "outputs": [],
   "source": [
    "# Load our best-performing model\n",
    "with open('../Data/Objects/ESP.pkl', 'rb') as model:\n",
    "    model_examples = pickle.load(model)"
   ]
  },
  {
   "cell_type": "code",
   "execution_count": 117,
   "metadata": {},
   "outputs": [
    {
     "name": "stdout",
     "output_type": "stream",
     "text": [
      "Laccase and lignin predicted label 1 with probability 0.9719\n",
      "Cytochrome P450 CYP3A4 and midazolam predicted label 1 with probability 0.9816\n",
      "Lipase and trygliceride predicted label 1 with probability 0.9324\n"
     ]
    }
   ],
   "source": [
    "# Get predicted label and probability of prediction\n",
    "label, prob = model_examples.predict(X_examples)\n",
    "reactions = ['Laccase and lignin', 'Cytochrome P450 CYP3A4 and midazolam', 'Lipase and triglyceride']\n",
    "for label, prob, reaction in zip(label,prob,reactions):\n",
    "    print(f'{reaction} predicted label {label} with probability {prob:.4f}')"
   ]
  }
 ],
 "metadata": {
  "kernelspec": {
   "display_name": "msc",
   "language": "python",
   "name": "python3"
  },
  "language_info": {
   "codemirror_mode": {
    "name": "ipython",
    "version": 3
   },
   "file_extension": ".py",
   "mimetype": "text/x-python",
   "name": "python",
   "nbconvert_exporter": "python",
   "pygments_lexer": "ipython3",
   "version": "3.9.18"
  }
 },
 "nbformat": 4,
 "nbformat_minor": 2
}
